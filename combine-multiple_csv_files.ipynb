{
 "cells": [
  {
   "cell_type": "code",
   "execution_count": 11,
   "metadata": {},
   "outputs": [],
   "source": [
    "import pandas as pd\n",
    "import glob"
   ]
  },
  {
   "cell_type": "code",
   "execution_count": 5,
   "metadata": {},
   "outputs": [
    {
     "name": "stdout",
     "output_type": "stream",
     "text": [
      "Requirement already satisfied: glob2 in c:\\users\\sumeet\\anaconda3\\lib\\site-packages (0.7)\n"
     ]
    }
   ],
   "source": [
    "!pip install glob2"
   ]
  },
  {
   "cell_type": "code",
   "execution_count": 23,
   "metadata": {},
   "outputs": [
    {
     "data": {
      "text/plain": [
       "['C:\\\\Users\\\\sumeet\\\\Desktop\\\\BRIDGELABZ\\\\month_wise_sheets\\\\Mastersheet 1st April to  30April - Sheet1.csv',\n",
       " 'C:\\\\Users\\\\sumeet\\\\Desktop\\\\BRIDGELABZ\\\\month_wise_sheets\\\\Mastersheet 1st April to 25th April(2022) - Sheet1.csv',\n",
       " 'C:\\\\Users\\\\sumeet\\\\Desktop\\\\BRIDGELABZ\\\\month_wise_sheets\\\\Mastersheet 1st Aug to  30th Aug - Sheet1.csv',\n",
       " 'C:\\\\Users\\\\sumeet\\\\Desktop\\\\BRIDGELABZ\\\\month_wise_sheets\\\\Mastersheet 1st Aug to 30th Aug(2022) - Sheet1 (1).csv',\n",
       " 'C:\\\\Users\\\\sumeet\\\\Desktop\\\\BRIDGELABZ\\\\month_wise_sheets\\\\Mastersheet 1st Dec to 27th Dec - Sheet1.csv',\n",
       " 'C:\\\\Users\\\\sumeet\\\\Desktop\\\\BRIDGELABZ\\\\month_wise_sheets\\\\Mastersheet 1st Feb to  28thFeb(2021).xlsx - Sheet1.csv',\n",
       " 'C:\\\\Users\\\\sumeet\\\\Desktop\\\\BRIDGELABZ\\\\month_wise_sheets\\\\Mastersheet 1st Feb to 28th Feb - Sheet1.csv',\n",
       " 'C:\\\\Users\\\\sumeet\\\\Desktop\\\\BRIDGELABZ\\\\month_wise_sheets\\\\Mastersheet 1st Jan to  31st Jan - Sheet1.csv',\n",
       " 'C:\\\\Users\\\\sumeet\\\\Desktop\\\\BRIDGELABZ\\\\month_wise_sheets\\\\Mastersheet 1st July to  31st July - Sheet1.csv',\n",
       " 'C:\\\\Users\\\\sumeet\\\\Desktop\\\\BRIDGELABZ\\\\month_wise_sheets\\\\Mastersheet 1st July to 30th July (2022) - Sheet1.csv',\n",
       " 'C:\\\\Users\\\\sumeet\\\\Desktop\\\\BRIDGELABZ\\\\month_wise_sheets\\\\Mastersheet 1st June to 30th June(2022) - Sheet1.csv',\n",
       " 'C:\\\\Users\\\\sumeet\\\\Desktop\\\\BRIDGELABZ\\\\month_wise_sheets\\\\Mastersheet 1st March to  31st March - Sheet1.csv',\n",
       " 'C:\\\\Users\\\\sumeet\\\\Desktop\\\\BRIDGELABZ\\\\month_wise_sheets\\\\Mastersheet 1st March to 31th March - Sheet1.csv',\n",
       " 'C:\\\\Users\\\\sumeet\\\\Desktop\\\\BRIDGELABZ\\\\month_wise_sheets\\\\Mastersheet 1st May to  31st May - Sheet1.csv',\n",
       " 'C:\\\\Users\\\\sumeet\\\\Desktop\\\\BRIDGELABZ\\\\month_wise_sheets\\\\Mastersheet 1st May to 31st May(2022) - Sheet3.csv',\n",
       " 'C:\\\\Users\\\\sumeet\\\\Desktop\\\\BRIDGELABZ\\\\month_wise_sheets\\\\Mastersheet 1st Nov to 30th Nov(2022) - Sheet1.csv',\n",
       " 'C:\\\\Users\\\\sumeet\\\\Desktop\\\\BRIDGELABZ\\\\month_wise_sheets\\\\Mastersheet 1st Nov to 31st Nov - Sheet1.csv',\n",
       " 'C:\\\\Users\\\\sumeet\\\\Desktop\\\\BRIDGELABZ\\\\month_wise_sheets\\\\Mastersheet 1st Oct to 30th Oct(2022) - Sheet1.csv',\n",
       " 'C:\\\\Users\\\\sumeet\\\\Desktop\\\\BRIDGELABZ\\\\month_wise_sheets\\\\Mastersheet 1st Sep to 30th Sep(2022) - Sheet1.csv',\n",
       " 'C:\\\\Users\\\\sumeet\\\\Desktop\\\\BRIDGELABZ\\\\month_wise_sheets\\\\Mastersheet 1st Sep to 30th September - Sheet1.csv']"
      ]
     },
     "execution_count": 23,
     "metadata": {},
     "output_type": "execute_result"
    }
   ],
   "source": [
    "data_files = sorted(glob.glob(r'C:\\Users\\sumeet\\Desktop\\BRIDGELABZ\\month_wise_sheets\\Mastersheet*.csv'))\n",
    "data_files"
   ]
  },
  {
   "cell_type": "code",
   "execution_count": 20,
   "metadata": {},
   "outputs": [
    {
     "name": "stdout",
     "output_type": "stream",
     "text": [
      "\n",
      "Named with wildcard *:\n",
      "C:\\Users\\sumeet\\Desktop\\BRIDGELABZ\\month_wise_sheets\\Mastersheet 1st April to  30April - Sheet1.csv\n",
      "C:\\Users\\sumeet\\Desktop\\BRIDGELABZ\\month_wise_sheets\\Mastersheet 1st April to 25th April(2022) - Sheet1.csv\n",
      "C:\\Users\\sumeet\\Desktop\\BRIDGELABZ\\month_wise_sheets\\Mastersheet 1st Aug to  30th Aug - Sheet1.csv\n",
      "C:\\Users\\sumeet\\Desktop\\BRIDGELABZ\\month_wise_sheets\\Mastersheet 1st Aug to 30th Aug(2022) - Sheet1 (1).csv\n",
      "C:\\Users\\sumeet\\Desktop\\BRIDGELABZ\\month_wise_sheets\\Mastersheet 1st Dec to 27th Dec - Sheet1.csv\n",
      "C:\\Users\\sumeet\\Desktop\\BRIDGELABZ\\month_wise_sheets\\Mastersheet 1st Feb to  28thFeb(2021).xlsx - Sheet1.csv\n",
      "C:\\Users\\sumeet\\Desktop\\BRIDGELABZ\\month_wise_sheets\\Mastersheet 1st Feb to 28th Feb - Sheet1.csv\n",
      "C:\\Users\\sumeet\\Desktop\\BRIDGELABZ\\month_wise_sheets\\Mastersheet 1st Jan to  31st Jan - Sheet1.csv\n",
      "C:\\Users\\sumeet\\Desktop\\BRIDGELABZ\\month_wise_sheets\\Mastersheet 1st July to  31st July - Sheet1.csv\n",
      "C:\\Users\\sumeet\\Desktop\\BRIDGELABZ\\month_wise_sheets\\Mastersheet 1st July to 30th July (2022) - Sheet1.csv\n",
      "C:\\Users\\sumeet\\Desktop\\BRIDGELABZ\\month_wise_sheets\\Mastersheet 1st June to 30th June(2022) - Sheet1.csv\n",
      "C:\\Users\\sumeet\\Desktop\\BRIDGELABZ\\month_wise_sheets\\Mastersheet 1st March to  31st March - Sheet1.csv\n",
      "C:\\Users\\sumeet\\Desktop\\BRIDGELABZ\\month_wise_sheets\\Mastersheet 1st March to 31th March - Sheet1.csv\n",
      "C:\\Users\\sumeet\\Desktop\\BRIDGELABZ\\month_wise_sheets\\Mastersheet 1st May to  31st May - Sheet1.csv\n",
      "C:\\Users\\sumeet\\Desktop\\BRIDGELABZ\\month_wise_sheets\\Mastersheet 1st May to 31st May(2022) - Sheet3.csv\n",
      "C:\\Users\\sumeet\\Desktop\\BRIDGELABZ\\month_wise_sheets\\Mastersheet 1st Nov to 30th Nov(2022) - Sheet1.csv\n",
      "C:\\Users\\sumeet\\Desktop\\BRIDGELABZ\\month_wise_sheets\\Mastersheet 1st Nov to 31st Nov - Sheet1.csv\n",
      "C:\\Users\\sumeet\\Desktop\\BRIDGELABZ\\month_wise_sheets\\Mastersheet 1st Oct to 30th Oct(2022) - Sheet1.csv\n",
      "C:\\Users\\sumeet\\Desktop\\BRIDGELABZ\\month_wise_sheets\\Mastersheet 1st Sep to 30th Sep(2022) - Sheet1.csv\n",
      "C:\\Users\\sumeet\\Desktop\\BRIDGELABZ\\month_wise_sheets\\Mastersheet 1st Sep to 30th September - Sheet1.csv\n"
     ]
    }
   ],
   "source": [
    "print('\\nNamed with wildcard *:') \n",
    "\n",
    "for name in glob.glob(r'C:\\Users\\sumeet\\Desktop\\BRIDGELABZ\\month_wise_sheets\\Mastersheet*.csv'): \n",
    "    print(name)"
   ]
  },
  {
   "cell_type": "code",
   "execution_count": 30,
   "metadata": {},
   "outputs": [
    {
     "name": "stderr",
     "output_type": "stream",
     "text": [
      "<ipython-input-30-00b13e1d7fbb>:1: DtypeWarning: Columns (9) have mixed types.Specify dtype option on import or set low_memory=False.\n",
      "  merged_data = pd.concat(pd.read_csv(datafile)\n",
      "<ipython-input-30-00b13e1d7fbb>:1: DtypeWarning: Columns (14,15) have mixed types.Specify dtype option on import or set low_memory=False.\n",
      "  merged_data = pd.concat(pd.read_csv(datafile)\n",
      "<ipython-input-30-00b13e1d7fbb>:1: DtypeWarning: Columns (0,12) have mixed types.Specify dtype option on import or set low_memory=False.\n",
      "  merged_data = pd.concat(pd.read_csv(datafile)\n",
      "<ipython-input-30-00b13e1d7fbb>:1: DtypeWarning: Columns (0,6) have mixed types.Specify dtype option on import or set low_memory=False.\n",
      "  merged_data = pd.concat(pd.read_csv(datafile)\n",
      "<ipython-input-30-00b13e1d7fbb>:1: DtypeWarning: Columns (14,15,16,17) have mixed types.Specify dtype option on import or set low_memory=False.\n",
      "  merged_data = pd.concat(pd.read_csv(datafile)\n",
      "<ipython-input-30-00b13e1d7fbb>:1: DtypeWarning: Columns (3,5,6,8,10,11,12,13,14,15) have mixed types.Specify dtype option on import or set low_memory=False.\n",
      "  merged_data = pd.concat(pd.read_csv(datafile)\n",
      "<ipython-input-30-00b13e1d7fbb>:1: DtypeWarning: Columns (16) have mixed types.Specify dtype option on import or set low_memory=False.\n",
      "  merged_data = pd.concat(pd.read_csv(datafile)\n",
      "<ipython-input-30-00b13e1d7fbb>:1: DtypeWarning: Columns (14,16,17,18,19,20,21) have mixed types.Specify dtype option on import or set low_memory=False.\n",
      "  merged_data = pd.concat(pd.read_csv(datafile)\n",
      "<ipython-input-30-00b13e1d7fbb>:1: DtypeWarning: Columns (6) have mixed types.Specify dtype option on import or set low_memory=False.\n",
      "  merged_data = pd.concat(pd.read_csv(datafile)\n",
      "<ipython-input-30-00b13e1d7fbb>:1: DtypeWarning: Columns (4,8) have mixed types.Specify dtype option on import or set low_memory=False.\n",
      "  merged_data = pd.concat(pd.read_csv(datafile)\n",
      "<ipython-input-30-00b13e1d7fbb>:1: DtypeWarning: Columns (10,16,17) have mixed types.Specify dtype option on import or set low_memory=False.\n",
      "  merged_data = pd.concat(pd.read_csv(datafile)\n",
      "<ipython-input-30-00b13e1d7fbb>:1: DtypeWarning: Columns (14,15,20) have mixed types.Specify dtype option on import or set low_memory=False.\n",
      "  merged_data = pd.concat(pd.read_csv(datafile)\n",
      "<ipython-input-30-00b13e1d7fbb>:1: DtypeWarning: Columns (12,13) have mixed types.Specify dtype option on import or set low_memory=False.\n",
      "  merged_data = pd.concat(pd.read_csv(datafile)\n",
      "<ipython-input-30-00b13e1d7fbb>:1: DtypeWarning: Columns (5,7,14,15) have mixed types.Specify dtype option on import or set low_memory=False.\n",
      "  merged_data = pd.concat(pd.read_csv(datafile)\n"
     ]
    }
   ],
   "source": [
    "merged_data = pd.concat(pd.read_csv(datafile)\n",
    "                        for datafile in data_files)"
   ]
  },
  {
   "cell_type": "code",
   "execution_count": null,
   "metadata": {},
   "outputs": [],
   "source": []
  }
 ],
 "metadata": {
  "kernelspec": {
   "display_name": "Python 3",
   "language": "python",
   "name": "python3"
  },
  "language_info": {
   "codemirror_mode": {
    "name": "ipython",
    "version": 3
   },
   "file_extension": ".py",
   "mimetype": "text/x-python",
   "name": "python",
   "nbconvert_exporter": "python",
   "pygments_lexer": "ipython3",
   "version": "3.8.5"
  }
 },
 "nbformat": 4,
 "nbformat_minor": 4
}
